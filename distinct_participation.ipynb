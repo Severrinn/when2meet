{
 "cells": [
  {
   "cell_type": "code",
   "execution_count": 28,
   "id": "4a232f10-b0af-4013-82bf-eb3578892028",
   "metadata": {
    "tags": []
   },
   "outputs": [],
   "source": [
    "# disjoint set coverage\n",
    "\n",
    "import pandas as pd\n",
    "from itertools import combinations\n",
    "\n",
    "df = pd.read_csv('when2meet.csv')\n"
   ]
  },
  {
   "cell_type": "code",
   "execution_count": 26,
   "id": "35344fa6-3ab2-4724-95d2-9693b626d8e4",
   "metadata": {},
   "outputs": [
    {
     "name": "stdout",
     "output_type": "stream",
     "text": [
      "Optimal Times:  ('Tuesday 09:00:00 AM', 'Thursday 12:00:00 PM')\n",
      "Total Unique Attendees:  13\n"
     ]
    }
   ],
   "source": [
    "# Load Data\n",
    "df = pd.read_csv('when2meet.csv')\n",
    "# Initialize Variables\n",
    "max_unique_attendees = 0\n",
    "optimal_times_unique = None\n",
    "\n",
    "# Generate Time Combinations for 2 meetings// if you wanted to schedule 3 meetings change the 2 to a 3\n",
    "time_combinations = list(combinations(df['Time'], 2))\n",
    "\n",
    "\n",
    "# Optimal Time Calculation\n",
    "for time1, time2 in time_combinations:\n",
    "    consultants_time1 = set(df.columns[1:][df[df['Time'] == time1].iloc[0, 1:].astype(bool)])\n",
    "    consultants_time2 = set(df.columns[1:][df[df['Time'] == time2].iloc[0, 1:].astype(bool)])\n",
    "# you would add an additional line above if you wanted to schedule 3 meetings. \n",
    "# And the union function below would need to be modified as well.\n",
    "    unique_attendees = len(consultants_time1.union(consultants_time2))\n",
    "    if unique_attendees > max_unique_attendees:\n",
    "        max_unique_attendees = unique_attendees\n",
    "        optimal_times_unique = (time1, time2)\n",
    "\n",
    "# Output the Result\n",
    "print(\"Optimal Times: \", optimal_times_unique)\n",
    "print(\"Total Unique Attendees: \", max_unique_attendees)"
   ]
  },
  {
   "cell_type": "code",
   "execution_count": null,
   "id": "72502141",
   "metadata": {},
   "outputs": [],
   "source": []
  }
 ],
 "metadata": {
  "kernelspec": {
   "display_name": "Python 3",
   "language": "python",
   "name": "python3"
  },
  "language_info": {
   "codemirror_mode": {
    "name": "ipython",
    "version": 3
   },
   "file_extension": ".py",
   "mimetype": "text/x-python",
   "name": "python",
   "nbconvert_exporter": "python",
   "pygments_lexer": "ipython3",
   "version": "3.8.8"
  }
 },
 "nbformat": 4,
 "nbformat_minor": 5
}
